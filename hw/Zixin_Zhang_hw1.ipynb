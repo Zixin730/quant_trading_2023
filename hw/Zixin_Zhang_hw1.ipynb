{
 "cells": [
  {
   "cell_type": "code",
   "execution_count": 25,
   "metadata": {},
   "outputs": [],
   "source": [
    "import matplotlib.pyplot as plt\n",
    "import pandas as pd\n",
    "import numpy as np\n",
    "import scipy as sp\n",
    "import quandl\n",
    "import functools\n",
    "import seaborn as sns\n",
    "import plotnine as p9\n",
    "from datetime import datetime"
   ]
  },
  {
   "attachments": {},
   "cell_type": "markdown",
   "metadata": {},
   "source": [
    "# 0. Setup"
   ]
  },
  {
   "cell_type": "code",
   "execution_count": 131,
   "metadata": {},
   "outputs": [
    {
     "data": {
      "text/plain": [
       "['H2021', 'M2021', 'U2021', 'Z2021', 'H2022', 'M2022']"
      ]
     },
     "execution_count": 131,
     "metadata": {},
     "output_type": "execute_result"
    }
   ],
   "source": [
    "# save private key to: ../srv/mykey/.quandlapikey\n",
    "# loading private key\n",
    "quandl.read_key(\"../srv/mykey/.quandlapikey\")\n",
    "MonthSymbolList = [\"H\", \"M\", \"U\", \"Z\"]\n",
    "start_date = \"2020-12-3\"\n",
    "end_date = \"2022-08-31\"\n",
    "OptionCodeList = [m+y for y in (\"2020\", \"2021\", \"2022\") for m in MonthSymbolList][4:-2]\n",
    "OptionCodeList"
   ]
  },
  {
   "cell_type": "code",
   "execution_count": 44,
   "metadata": {},
   "outputs": [
    {
     "name": "stdout",
     "output_type": "stream",
     "text": [
      "fetch_quandl already defined\n"
     ]
    }
   ],
   "source": [
    "try:\n",
    "    # Do not recreate if it already exists\n",
    "    fetch_quandl\n",
    "    print(\"fetch_quandl already defined\")\n",
    "except NameError:\n",
    "    @functools.lru_cache(maxsize=16)\n",
    "    def fetch_quandl(my_sec):\n",
    "        print(\"Fetching from Quandl\")\n",
    "        qdata = quandl.get(my_sec)\n",
    "        return qdata\n",
    "    print(\"fetch_quandl has now been newly defined\")"
   ]
  },
  {
   "cell_type": "code",
   "execution_count": 139,
   "metadata": {},
   "outputs": [],
   "source": [
    "def get_futures_data(name, option_code_list, s=start_date, e=end_date):\n",
    "    Future = pd.DataFrame()\n",
    "    Dtt = pd.DataFrame()\n",
    "    f_ls, dtt_ls = [], []\n",
    "    print(name)\n",
    "    for code in option_code_list:\n",
    "        sec_name = \"OWF/%s_%s_IVM\" % (name, code)\n",
    "        print(\"Getting data: \" + sec_name)\n",
    "        data = quandl.get(sec_name, start_date=s, \n",
    "                      end_date=e)\n",
    "        f_ls.append(data.Future)\n",
    "        dtt_ls.append(data.DtT)\n",
    "    Future = pd.concat(f_ls, axis=1, join=\"outer\")\n",
    "    Dtt = pd.concat(dtt_ls, axis=1, join=\"outer\")\n",
    "    Future.columns = option_code_list\n",
    "    Dtt.columns = option_code_list\n",
    "    return Future, Dtt"
   ]
  },
  {
   "cell_type": "code",
   "execution_count": 132,
   "metadata": {},
   "outputs": [],
   "source": [
    "def cal_sec_mon_future(name, option_code_list, s, e, boundary=30.0):\n",
    "    future, dtt =  get_futures_data(name, option_code_list, s, e)\n",
    "    df = dtt[dtt > boundary]\n",
    "    ls = df.idxmin(axis=1)\n",
    "    future_price = pd.DataFrame(columns=[name])\n",
    "    for idx, col in ls.items():\n",
    "        try:\n",
    "            future_price.loc[idx, name] = future.loc[idx, col]\n",
    "        except KeyError:\n",
    "            continue\n",
    "    return future_price"
   ]
  },
  {
   "attachments": {},
   "cell_type": "markdown",
   "metadata": {},
   "source": [
    "# 1. Data"
   ]
  },
  {
   "cell_type": "code",
   "execution_count": 140,
   "metadata": {},
   "outputs": [
    {
     "name": "stdout",
     "output_type": "stream",
     "text": [
      "ICE_B_B\n",
      "Getting data: OWF/ICE_B_B_H2021_IVM\n",
      "Getting data: OWF/ICE_B_B_M2021_IVM\n",
      "Getting data: OWF/ICE_B_B_U2021_IVM\n",
      "Getting data: OWF/ICE_B_B_Z2021_IVM\n",
      "Getting data: OWF/ICE_B_B_H2022_IVM\n",
      "Getting data: OWF/ICE_B_B_M2022_IVM\n",
      "ICE_G_G\n",
      "Getting data: OWF/ICE_G_G_H2021_IVM\n",
      "Getting data: OWF/ICE_G_G_M2021_IVM\n",
      "Getting data: OWF/ICE_G_G_U2021_IVM\n",
      "Getting data: OWF/ICE_G_G_Z2021_IVM\n",
      "Getting data: OWF/ICE_G_G_H2022_IVM\n",
      "Getting data: OWF/ICE_G_G_M2022_IVM\n",
      "CBT_FV_FV\n",
      "Getting data: OWF/CBT_FV_FV_H2021_IVM\n",
      "Getting data: OWF/CBT_FV_FV_M2021_IVM\n",
      "Getting data: OWF/CBT_FV_FV_U2021_IVM\n",
      "Getting data: OWF/CBT_FV_FV_Z2021_IVM\n",
      "Getting data: OWF/CBT_FV_FV_H2022_IVM\n",
      "Getting data: OWF/CBT_FV_FV_M2022_IVM\n",
      "CBT_TU_TU\n",
      "Getting data: OWF/CBT_TU_TU_H2021_IVM\n",
      "Getting data: OWF/CBT_TU_TU_M2021_IVM\n",
      "Getting data: OWF/CBT_TU_TU_U2021_IVM\n",
      "Getting data: OWF/CBT_TU_TU_Z2021_IVM\n",
      "Getting data: OWF/CBT_TU_TU_H2022_IVM\n",
      "Getting data: OWF/CBT_TU_TU_M2022_IVM\n"
     ]
    }
   ],
   "source": [
    "# Student ID: 12375213\n",
    "# 1. ICE_B_B versus ICE_G_G×0.1147\n",
    "# 3. CBT_FV_FV versus CBT_TU_TU × 1.1066\n",
    "# W, X; Y, Z\n",
    "# X-W; Z-Y\n",
    "ICE_B_B = cal_sec_mon_future(\"ICE_B_B\", OptionCodeList, s=start_date, e=end_date)\n",
    "ICE_G_G = cal_sec_mon_future(\"ICE_G_G\", OptionCodeList, s=start_date, e=end_date)\n",
    "ICE_B_B_ICE_G_G = ICE_B_B.merge(ICE_G_G, left_index=True, right_index=True)\n",
    "\n",
    "CBT_FV_FV = cal_sec_mon_future(\"CBT_FV_FV\", OptionCodeList, s=start_date, e=end_date)\n",
    "CBT_TU_TU = cal_sec_mon_future(\"CBT_TU_TU\", OptionCodeList, s=start_date, e=end_date)\n",
    "CBT_FV_FV_CBT_TU_TU = CBT_FV_FV.merge(CBT_TU_TU, left_index=True, right_index=True)"
   ]
  },
  {
   "cell_type": "code",
   "execution_count": 145,
   "metadata": {},
   "outputs": [
    {
     "data": {
      "text/html": [
       "<div>\n",
       "<style scoped>\n",
       "    .dataframe tbody tr th:only-of-type {\n",
       "        vertical-align: middle;\n",
       "    }\n",
       "\n",
       "    .dataframe tbody tr th {\n",
       "        vertical-align: top;\n",
       "    }\n",
       "\n",
       "    .dataframe thead th {\n",
       "        text-align: right;\n",
       "    }\n",
       "</style>\n",
       "<table border=\"1\" class=\"dataframe\">\n",
       "  <thead>\n",
       "    <tr style=\"text-align: right;\">\n",
       "      <th></th>\n",
       "      <th>ICE_B_B</th>\n",
       "      <th>ICE_G_G</th>\n",
       "    </tr>\n",
       "  </thead>\n",
       "  <tbody>\n",
       "    <tr>\n",
       "      <th>2022-03-23</th>\n",
       "      <td>117.75</td>\n",
       "      <td>1054.25</td>\n",
       "    </tr>\n",
       "    <tr>\n",
       "      <th>2022-03-24</th>\n",
       "      <td>115.3</td>\n",
       "      <td>1045.25</td>\n",
       "    </tr>\n",
       "    <tr>\n",
       "      <th>2022-03-25</th>\n",
       "      <td>117.37</td>\n",
       "      <td>1047.5</td>\n",
       "    </tr>\n",
       "    <tr>\n",
       "      <th>2022-03-28</th>\n",
       "      <td>109.49</td>\n",
       "      <td>999.25</td>\n",
       "    </tr>\n",
       "    <tr>\n",
       "      <th>2022-03-29</th>\n",
       "      <td>107.71</td>\n",
       "      <td>962.75</td>\n",
       "    </tr>\n",
       "  </tbody>\n",
       "</table>\n",
       "</div>"
      ],
      "text/plain": [
       "           ICE_B_B  ICE_G_G\n",
       "2022-03-23  117.75  1054.25\n",
       "2022-03-24   115.3  1045.25\n",
       "2022-03-25  117.37   1047.5\n",
       "2022-03-28  109.49   999.25\n",
       "2022-03-29  107.71   962.75"
      ]
     },
     "execution_count": 145,
     "metadata": {},
     "output_type": "execute_result"
    }
   ],
   "source": [
    "ICE_B_B_ICE_G_G.tail()"
   ]
  },
  {
   "cell_type": "code",
   "execution_count": 142,
   "metadata": {},
   "outputs": [
    {
     "data": {
      "text/html": [
       "<div>\n",
       "<style scoped>\n",
       "    .dataframe tbody tr th:only-of-type {\n",
       "        vertical-align: middle;\n",
       "    }\n",
       "\n",
       "    .dataframe tbody tr th {\n",
       "        vertical-align: top;\n",
       "    }\n",
       "\n",
       "    .dataframe thead th {\n",
       "        text-align: right;\n",
       "    }\n",
       "</style>\n",
       "<table border=\"1\" class=\"dataframe\">\n",
       "  <thead>\n",
       "    <tr style=\"text-align: right;\">\n",
       "      <th></th>\n",
       "      <th>CBT_FV_FV</th>\n",
       "      <th>CBT_TU_TU</th>\n",
       "    </tr>\n",
       "  </thead>\n",
       "  <tbody>\n",
       "    <tr>\n",
       "      <th>2022-05-13</th>\n",
       "      <td>112.960938</td>\n",
       "      <td>105.68125</td>\n",
       "    </tr>\n",
       "    <tr>\n",
       "      <th>2022-05-16</th>\n",
       "      <td>113.28125</td>\n",
       "      <td>105.742188</td>\n",
       "    </tr>\n",
       "    <tr>\n",
       "      <th>2022-05-17</th>\n",
       "      <td>112.671875</td>\n",
       "      <td>105.51875</td>\n",
       "    </tr>\n",
       "    <tr>\n",
       "      <th>2022-05-18</th>\n",
       "      <td>112.914062</td>\n",
       "      <td>105.585938</td>\n",
       "    </tr>\n",
       "    <tr>\n",
       "      <th>2022-05-19</th>\n",
       "      <td>113.140625</td>\n",
       "      <td>105.696875</td>\n",
       "    </tr>\n",
       "  </tbody>\n",
       "</table>\n",
       "</div>"
      ],
      "text/plain": [
       "             CBT_FV_FV   CBT_TU_TU\n",
       "2022-05-13  112.960938   105.68125\n",
       "2022-05-16   113.28125  105.742188\n",
       "2022-05-17  112.671875   105.51875\n",
       "2022-05-18  112.914062  105.585938\n",
       "2022-05-19  113.140625  105.696875"
      ]
     },
     "execution_count": 142,
     "metadata": {},
     "output_type": "execute_result"
    }
   ],
   "source": [
    "CBT_FV_FV_CBT_TU_TU.tail()"
   ]
  },
  {
   "cell_type": "code",
   "execution_count": 146,
   "metadata": {},
   "outputs": [],
   "source": [
    "S1 = ICE_B_B_ICE_G_G['ICE_G_G'] * 0.1147 - ICE_B_B_ICE_G_G['ICE_B_B']\n",
    "S1 = S1.to_frame(\"ICE_B_B - ICE_G_G\")\n",
    "S1.to_excel(\"../data/hw1/S1.xlsx\")"
   ]
  },
  {
   "cell_type": "code",
   "execution_count": 147,
   "metadata": {},
   "outputs": [],
   "source": [
    "S2 = CBT_FV_FV_CBT_TU_TU[\"CBT_TU_TU\"] * 1.1066 - CBT_FV_FV_CBT_TU_TU[\"CBT_FV_FV\"]\n",
    "S2 = S2.to_frame(\"CBT_TU_TU - CBT_FV_FV\")\n",
    "S2.to_excel(\"../data/hw1/S2.xlsx\")"
   ]
  },
  {
   "attachments": {},
   "cell_type": "markdown",
   "metadata": {},
   "source": [
    "# 2. Analysis"
   ]
  },
  {
   "cell_type": "code",
   "execution_count": null,
   "metadata": {},
   "outputs": [],
   "source": []
  },
  {
   "cell_type": "code",
   "execution_count": null,
   "metadata": {},
   "outputs": [],
   "source": []
  },
  {
   "cell_type": "code",
   "execution_count": null,
   "metadata": {},
   "outputs": [],
   "source": []
  },
  {
   "cell_type": "code",
   "execution_count": null,
   "metadata": {},
   "outputs": [],
   "source": []
  },
  {
   "cell_type": "code",
   "execution_count": null,
   "metadata": {},
   "outputs": [],
   "source": []
  },
  {
   "cell_type": "markdown",
   "metadata": {},
   "source": []
  }
 ],
 "metadata": {
  "kernelspec": {
   "display_name": ".venv",
   "language": "python",
   "name": "python3"
  },
  "language_info": {
   "codemirror_mode": {
    "name": "ipython",
    "version": 3
   },
   "file_extension": ".py",
   "mimetype": "text/x-python",
   "name": "python",
   "nbconvert_exporter": "python",
   "pygments_lexer": "ipython3",
   "version": "3.8.5"
  },
  "orig_nbformat": 4,
  "vscode": {
   "interpreter": {
    "hash": "831749a542879916c8ba3d2968b1563da627e076e10965a588d7fb41d42f7704"
   }
  }
 },
 "nbformat": 4,
 "nbformat_minor": 2
}
